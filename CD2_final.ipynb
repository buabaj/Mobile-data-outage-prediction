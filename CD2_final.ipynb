{
  "nbformat": 4,
  "nbformat_minor": 0,
  "metadata": {
    "kernelspec": {
      "display_name": "Python 3",
      "language": "python",
      "name": "python3"
    },
    "language_info": {
      "codemirror_mode": {
        "name": "ipython",
        "version": 3
      },
      "file_extension": ".py",
      "mimetype": "text/x-python",
      "name": "python",
      "nbconvert_exporter": "python",
      "pygments_lexer": "ipython3",
      "version": "3.8.5"
    },
    "colab": {
      "name": "CD2-final.ipynb",
      "provenance": [],
      "include_colab_link": true
    }
  },
  "cells": [
    {
      "cell_type": "markdown",
      "metadata": {
        "id": "view-in-github",
        "colab_type": "text"
      },
      "source": [
        "<a href=\"https://colab.research.google.com/github/buabaj/Mobile-data-outage-prediction/blob/main/CD2_final.ipynb\" target=\"_parent\"><img src=\"https://colab.research.google.com/assets/colab-badge.svg\" alt=\"Open In Colab\"/></a>"
      ]
    },
    {
      "cell_type": "code",
      "metadata": {
        "id": "iF4kZVGvx8TJ"
      },
      "source": [
        "import pandas as pd\n",
        "import numpy as np\n",
        "import matplotlib.pyplot as plt"
      ],
      "execution_count": 47,
      "outputs": []
    },
    {
      "cell_type": "code",
      "metadata": {
        "id": "Wwlh2o1Ix8Tc"
      },
      "source": [
        "data = pd.read_excel('SD2.xlsx')"
      ],
      "execution_count": 48,
      "outputs": []
    },
    {
      "cell_type": "code",
      "metadata": {
        "colab": {
          "base_uri": "https://localhost:8080/"
        },
        "id": "aFOrtvOJx8Te",
        "outputId": "ea15fe9f-7180-4bb4-971a-d17bae9615dd"
      },
      "source": [
        "data.isnull().sum()"
      ],
      "execution_count": 49,
      "outputs": [
        {
          "output_type": "execute_result",
          "data": {
            "text/plain": [
              "REGION      0\n",
              "CAUSE       0\n",
              "CATEGORY    0\n",
              "MTTR        0\n",
              "dtype: int64"
            ]
          },
          "metadata": {
            "tags": []
          },
          "execution_count": 49
        }
      ]
    },
    {
      "cell_type": "code",
      "metadata": {
        "colab": {
          "base_uri": "https://localhost:8080/"
        },
        "id": "wI5Jqbvlx8Th",
        "outputId": "3d8578db-cd1d-4f41-d85b-c3c332f53ab2"
      },
      "source": [
        "!pip install xplore\r\n",
        "from xplore.data import xplore"
      ],
      "execution_count": 50,
      "outputs": [
        {
          "output_type": "stream",
          "text": [
            "Requirement already satisfied: xplore in /usr/local/lib/python3.6/dist-packages (0.0.1)\n",
            "Requirement already satisfied: pandas in /usr/local/lib/python3.6/dist-packages (from xplore) (1.1.5)\n",
            "Requirement already satisfied: pandas-profiling in /usr/local/lib/python3.6/dist-packages (from xplore) (1.4.1)\n",
            "Requirement already satisfied: pytz>=2017.2 in /usr/local/lib/python3.6/dist-packages (from pandas->xplore) (2018.9)\n",
            "Requirement already satisfied: python-dateutil>=2.7.3 in /usr/local/lib/python3.6/dist-packages (from pandas->xplore) (2.8.1)\n",
            "Requirement already satisfied: numpy>=1.15.4 in /usr/local/lib/python3.6/dist-packages (from pandas->xplore) (1.19.4)\n",
            "Requirement already satisfied: six>=1.9 in /usr/local/lib/python3.6/dist-packages (from pandas-profiling->xplore) (1.15.0)\n",
            "Requirement already satisfied: matplotlib>=1.4 in /usr/local/lib/python3.6/dist-packages (from pandas-profiling->xplore) (3.2.2)\n",
            "Requirement already satisfied: jinja2>=2.8 in /usr/local/lib/python3.6/dist-packages (from pandas-profiling->xplore) (2.11.2)\n",
            "Requirement already satisfied: cycler>=0.10 in /usr/local/lib/python3.6/dist-packages (from matplotlib>=1.4->pandas-profiling->xplore) (0.10.0)\n",
            "Requirement already satisfied: pyparsing!=2.0.4,!=2.1.2,!=2.1.6,>=2.0.1 in /usr/local/lib/python3.6/dist-packages (from matplotlib>=1.4->pandas-profiling->xplore) (2.4.7)\n",
            "Requirement already satisfied: kiwisolver>=1.0.1 in /usr/local/lib/python3.6/dist-packages (from matplotlib>=1.4->pandas-profiling->xplore) (1.3.1)\n",
            "Requirement already satisfied: MarkupSafe>=0.23 in /usr/local/lib/python3.6/dist-packages (from jinja2>=2.8->pandas-profiling->xplore) (1.1.1)\n"
          ],
          "name": "stdout"
        }
      ]
    },
    {
      "cell_type": "code",
      "metadata": {
        "colab": {
          "base_uri": "https://localhost:8080/"
        },
        "id": "40ktM3xCx8Ti",
        "outputId": "c627443c-f30e-4769-9dd5-5c3d750e5afa"
      },
      "source": [
        "xplore(data)"
      ],
      "execution_count": 51,
      "outputs": [
        {
          "output_type": "stream",
          "text": [
            "------------------------------------\n",
            "The fist 5 entries of your dataset are:\n",
            "\n",
            "   REGION  CAUSE  CATEGORY         MTTR\n",
            "0       8      6         1    75.000000\n",
            "1       4      6         1  2306.983333\n",
            "2       8      6         1   292.000000\n",
            "3       4      8         1   265.733333\n",
            "4       5      4         0    33.000000\n",
            "\n",
            "\n",
            "------------------------------------\n",
            "The last 5 entries of your dataset are:\n",
            "\n",
            "      REGION  CAUSE  CATEGORY        MTTR\n",
            "2055       4      7         0    9.483333\n",
            "2056     124      8         0    8.850000\n",
            "2057       9      2         0  147.383333\n",
            "2058       3      9         0    3.850000\n",
            "2059       8      6         0   68.900000\n",
            "\n",
            "\n",
            "------------------------------------\n",
            "Stats on your dataset:\n",
            "\n",
            "<bound method NDFrame.describe of       REGION  CAUSE  CATEGORY         MTTR\n",
            "0          8      6         1    75.000000\n",
            "1          4      6         1  2306.983333\n",
            "2          8      6         1   292.000000\n",
            "3          4      8         1   265.733333\n",
            "4          5      4         0    33.000000\n",
            "...      ...    ...       ...          ...\n",
            "2055       4      7         0     9.483333\n",
            "2056     124      8         0     8.850000\n",
            "2057       9      2         0   147.383333\n",
            "2058       3      9         0     3.850000\n",
            "2059       8      6         0    68.900000\n",
            "\n",
            "[2060 rows x 4 columns]>\n",
            "\n",
            "\n",
            "------------------------------------\n",
            "The Value types of each column are:\n",
            "\n",
            "REGION        int64\n",
            "CAUSE         int64\n",
            "CATEGORY      int64\n",
            "MTTR        float64\n",
            "dtype: object\n",
            "\n",
            "\n",
            "------------------------------------\n",
            "Info on your Dataset:\n",
            "\n",
            "<bound method DataFrame.info of       REGION  CAUSE  CATEGORY         MTTR\n",
            "0          8      6         1    75.000000\n",
            "1          4      6         1  2306.983333\n",
            "2          8      6         1   292.000000\n",
            "3          4      8         1   265.733333\n",
            "4          5      4         0    33.000000\n",
            "...      ...    ...       ...          ...\n",
            "2055       4      7         0     9.483333\n",
            "2056     124      8         0     8.850000\n",
            "2057       9      2         0   147.383333\n",
            "2058       3      9         0     3.850000\n",
            "2059       8      6         0    68.900000\n",
            "\n",
            "[2060 rows x 4 columns]>\n",
            "\n",
            "\n",
            "------------------------------------\n",
            "The shape of your dataset in the order of rows and columns is:\n",
            "\n",
            "(2060, 4)\n",
            "\n",
            "\n",
            "------------------------------------\n",
            "The features of your dataset are:\n",
            "\n",
            "Index(['REGION', 'CAUSE', 'CATEGORY', 'MTTR'], dtype='object')\n",
            "\n",
            "\n",
            "------------------------------------\n",
            "The total number of null values from individual columns of your data set are:\n",
            "\n",
            "REGION      0\n",
            "CAUSE       0\n",
            "CATEGORY    0\n",
            "MTTR        0\n",
            "dtype: int64\n",
            "\n",
            "\n",
            "------------------------------------\n",
            "The number of rows in your dataset are:\n",
            "\n",
            "2060\n",
            "\n",
            "\n",
            "------------------------------------\n",
            "The values in your dataset are:\n",
            "\n",
            "[[8.00000000e+00 6.00000000e+00 1.00000000e+00 7.50000000e+01]\n",
            " [4.00000000e+00 6.00000000e+00 1.00000000e+00 2.30698333e+03]\n",
            " [8.00000000e+00 6.00000000e+00 1.00000000e+00 2.92000000e+02]\n",
            " ...\n",
            " [9.00000000e+00 2.00000000e+00 0.00000000e+00 1.47383333e+02]\n",
            " [3.00000000e+00 9.00000000e+00 0.00000000e+00 3.85000000e+00]\n",
            " [8.00000000e+00 6.00000000e+00 0.00000000e+00 6.89000000e+01]]\n",
            "\n",
            "\n",
            "------------------------------------\n",
            "\n",
            "\n",
            "Do you want to generate a detailed report on the exploration of your dataset?\n",
            "[y/n]: n\n",
            "Process Completed\n"
          ],
          "name": "stdout"
        },
        {
          "output_type": "execute_result",
          "data": {
            "text/plain": [
              "<xplore.data.xplore at 0x7f6d4ee4e0b8>"
            ]
          },
          "metadata": {
            "tags": []
          },
          "execution_count": 51
        }
      ]
    },
    {
      "cell_type": "code",
      "metadata": {
        "colab": {
          "base_uri": "https://localhost:8080/",
          "height": 402
        },
        "id": "EwDMqbAtx8Tj",
        "outputId": "7c676299-a030-482b-83e7-e817daa6133d"
      },
      "source": [
        "df = pd.DataFrame(data)\n",
        "df"
      ],
      "execution_count": 52,
      "outputs": [
        {
          "output_type": "execute_result",
          "data": {
            "text/html": [
              "<div>\n",
              "<style scoped>\n",
              "    .dataframe tbody tr th:only-of-type {\n",
              "        vertical-align: middle;\n",
              "    }\n",
              "\n",
              "    .dataframe tbody tr th {\n",
              "        vertical-align: top;\n",
              "    }\n",
              "\n",
              "    .dataframe thead th {\n",
              "        text-align: right;\n",
              "    }\n",
              "</style>\n",
              "<table border=\"1\" class=\"dataframe\">\n",
              "  <thead>\n",
              "    <tr style=\"text-align: right;\">\n",
              "      <th></th>\n",
              "      <th>REGION</th>\n",
              "      <th>CAUSE</th>\n",
              "      <th>CATEGORY</th>\n",
              "      <th>MTTR</th>\n",
              "    </tr>\n",
              "  </thead>\n",
              "  <tbody>\n",
              "    <tr>\n",
              "      <th>0</th>\n",
              "      <td>8</td>\n",
              "      <td>6</td>\n",
              "      <td>1</td>\n",
              "      <td>75.000000</td>\n",
              "    </tr>\n",
              "    <tr>\n",
              "      <th>1</th>\n",
              "      <td>4</td>\n",
              "      <td>6</td>\n",
              "      <td>1</td>\n",
              "      <td>2306.983333</td>\n",
              "    </tr>\n",
              "    <tr>\n",
              "      <th>2</th>\n",
              "      <td>8</td>\n",
              "      <td>6</td>\n",
              "      <td>1</td>\n",
              "      <td>292.000000</td>\n",
              "    </tr>\n",
              "    <tr>\n",
              "      <th>3</th>\n",
              "      <td>4</td>\n",
              "      <td>8</td>\n",
              "      <td>1</td>\n",
              "      <td>265.733333</td>\n",
              "    </tr>\n",
              "    <tr>\n",
              "      <th>4</th>\n",
              "      <td>5</td>\n",
              "      <td>4</td>\n",
              "      <td>0</td>\n",
              "      <td>33.000000</td>\n",
              "    </tr>\n",
              "    <tr>\n",
              "      <th>...</th>\n",
              "      <td>...</td>\n",
              "      <td>...</td>\n",
              "      <td>...</td>\n",
              "      <td>...</td>\n",
              "    </tr>\n",
              "    <tr>\n",
              "      <th>2055</th>\n",
              "      <td>4</td>\n",
              "      <td>7</td>\n",
              "      <td>0</td>\n",
              "      <td>9.483333</td>\n",
              "    </tr>\n",
              "    <tr>\n",
              "      <th>2056</th>\n",
              "      <td>124</td>\n",
              "      <td>8</td>\n",
              "      <td>0</td>\n",
              "      <td>8.850000</td>\n",
              "    </tr>\n",
              "    <tr>\n",
              "      <th>2057</th>\n",
              "      <td>9</td>\n",
              "      <td>2</td>\n",
              "      <td>0</td>\n",
              "      <td>147.383333</td>\n",
              "    </tr>\n",
              "    <tr>\n",
              "      <th>2058</th>\n",
              "      <td>3</td>\n",
              "      <td>9</td>\n",
              "      <td>0</td>\n",
              "      <td>3.850000</td>\n",
              "    </tr>\n",
              "    <tr>\n",
              "      <th>2059</th>\n",
              "      <td>8</td>\n",
              "      <td>6</td>\n",
              "      <td>0</td>\n",
              "      <td>68.900000</td>\n",
              "    </tr>\n",
              "  </tbody>\n",
              "</table>\n",
              "<p>2060 rows × 4 columns</p>\n",
              "</div>"
            ],
            "text/plain": [
              "      REGION  CAUSE  CATEGORY         MTTR\n",
              "0          8      6         1    75.000000\n",
              "1          4      6         1  2306.983333\n",
              "2          8      6         1   292.000000\n",
              "3          4      8         1   265.733333\n",
              "4          5      4         0    33.000000\n",
              "...      ...    ...       ...          ...\n",
              "2055       4      7         0     9.483333\n",
              "2056     124      8         0     8.850000\n",
              "2057       9      2         0   147.383333\n",
              "2058       3      9         0     3.850000\n",
              "2059       8      6         0    68.900000\n",
              "\n",
              "[2060 rows x 4 columns]"
            ]
          },
          "metadata": {
            "tags": []
          },
          "execution_count": 52
        }
      ]
    },
    {
      "cell_type": "code",
      "metadata": {
        "id": "xVWuOJi9x8Tl"
      },
      "source": [
        "## enter the feature columns you want to assing to the dependent and independent variables here\n",
        "\n",
        "X = df[['CAUSE']]\n",
        "y = df[['CATEGORY']]"
      ],
      "execution_count": 53,
      "outputs": []
    },
    {
      "cell_type": "code",
      "metadata": {
        "id": "R4tW-Kajx8Tm"
      },
      "source": [
        "seed = 50  # so that the result is reproducible\n",
        "from sklearn.model_selection import train_test_split\n",
        "X_train, X_test, y_train, y_test = train_test_split(X,y,test_size=0.2, random_state = seed)"
      ],
      "execution_count": 54,
      "outputs": []
    },
    {
      "cell_type": "code",
      "metadata": {
        "id": "tOpp0Iygx8Tm"
      },
      "source": [
        "X_train = X_train.fillna('na')\n",
        "X_test = X_test.fillna('na')"
      ],
      "execution_count": 55,
      "outputs": []
    },
    {
      "cell_type": "code",
      "metadata": {
        "colab": {
          "base_uri": "https://localhost:8080/"
        },
        "id": "6ewfFS9Tx8Tp",
        "outputId": "061c571e-b1bf-4286-8fe2-92651c8a36c3"
      },
      "source": [
        "X_train.dtypes"
      ],
      "execution_count": 56,
      "outputs": [
        {
          "output_type": "execute_result",
          "data": {
            "text/plain": [
              "CAUSE    int64\n",
              "dtype: object"
            ]
          },
          "metadata": {
            "tags": []
          },
          "execution_count": 56
        }
      ]
    },
    {
      "cell_type": "code",
      "metadata": {
        "id": "g4HDe_6Ux8Tq"
      },
      "source": [
        "features_to_encode = list(X_train.select_dtypes(include = ['object']).columns)"
      ],
      "execution_count": 57,
      "outputs": []
    },
    {
      "cell_type": "code",
      "metadata": {
        "id": "lWE3pC8-x8Tr"
      },
      "source": [
        "from sklearn.preprocessing import OneHotEncoder\n",
        "from sklearn.compose import make_column_transformer\n",
        "col_trans = make_column_transformer(\n",
        "                        (OneHotEncoder(),features_to_encode),\n",
        "                        remainder = \"passthrough\"\n",
        "                        )"
      ],
      "execution_count": 58,
      "outputs": []
    },
    {
      "cell_type": "code",
      "metadata": {
        "id": "PU4is_ykx8Ts"
      },
      "source": [
        "from sklearn.ensemble import RandomForestClassifier\n",
        "rf_classifier = RandomForestClassifier(\n",
        "                      min_samples_leaf=50,\n",
        "                      n_estimators=150,\n",
        "                      bootstrap=True,\n",
        "                      oob_score=True,\n",
        "                      n_jobs=-1,\n",
        "                      random_state=seed,\n",
        "                      max_features='auto')"
      ],
      "execution_count": 59,
      "outputs": []
    },
    {
      "cell_type": "code",
      "metadata": {
        "colab": {
          "base_uri": "https://localhost:8080/"
        },
        "id": "ljfr2XWax8Tt",
        "outputId": "2d8a8bc4-070b-4cab-a045-473b0e24f511"
      },
      "source": [
        "from sklearn.pipeline import make_pipeline\n",
        "pipe = make_pipeline(col_trans, rf_classifier)\n",
        "np.array(X_train, dtype=np.float32)\n",
        "pipe.fit(X_train, y_train)"
      ],
      "execution_count": 60,
      "outputs": [
        {
          "output_type": "stream",
          "text": [
            "/usr/local/lib/python3.6/dist-packages/sklearn/pipeline.py:354: DataConversionWarning: A column-vector y was passed when a 1d array was expected. Please change the shape of y to (n_samples,), for example using ravel().\n",
            "  self._final_estimator.fit(Xt, y, **fit_params)\n"
          ],
          "name": "stderr"
        },
        {
          "output_type": "execute_result",
          "data": {
            "text/plain": [
              "Pipeline(memory=None,\n",
              "         steps=[('columntransformer',\n",
              "                 ColumnTransformer(n_jobs=None, remainder='passthrough',\n",
              "                                   sparse_threshold=0.3,\n",
              "                                   transformer_weights=None,\n",
              "                                   transformers=[('onehotencoder',\n",
              "                                                  OneHotEncoder(categories='auto',\n",
              "                                                                drop=None,\n",
              "                                                                dtype=<class 'numpy.float64'>,\n",
              "                                                                handle_unknown='error',\n",
              "                                                                sparse=True),\n",
              "                                                  [])],\n",
              "                                   verbose=False)),\n",
              "                ('randomforestclassifier',\n",
              "                 RandomForestClas...ap=True, ccp_alpha=0.0,\n",
              "                                        class_weight=None, criterion='gini',\n",
              "                                        max_depth=None, max_features='auto',\n",
              "                                        max_leaf_nodes=None, max_samples=None,\n",
              "                                        min_impurity_decrease=0.0,\n",
              "                                        min_impurity_split=None,\n",
              "                                        min_samples_leaf=50,\n",
              "                                        min_samples_split=2,\n",
              "                                        min_weight_fraction_leaf=0.0,\n",
              "                                        n_estimators=150, n_jobs=-1,\n",
              "                                        oob_score=True, random_state=50,\n",
              "                                        verbose=0, warm_start=False))],\n",
              "         verbose=False)"
            ]
          },
          "metadata": {
            "tags": []
          },
          "execution_count": 60
        }
      ]
    },
    {
      "cell_type": "code",
      "metadata": {
        "id": "37gSs0wZx8Tu"
      },
      "source": [
        "y_pred = pipe.predict(X_test)"
      ],
      "execution_count": 61,
      "outputs": []
    },
    {
      "cell_type": "code",
      "metadata": {
        "id": "dNpvxRYTx8Tu"
      },
      "source": [
        "from sklearn.metrics import accuracy_score, confusion_matrix, precision_score, recall_score, roc_auc_score, roc_curve, f1_score"
      ],
      "execution_count": 62,
      "outputs": []
    },
    {
      "cell_type": "code",
      "metadata": {
        "colab": {
          "base_uri": "https://localhost:8080/"
        },
        "id": "5Va6YXCjx8Tx",
        "outputId": "6576ba83-e2d4-406c-de2f-6cf52fb6701a"
      },
      "source": [
        "accuracy_score(y_test, y_pred)\n",
        "print(f\"The accuracy of the model is {round(accuracy_score(y_test,y_pred),3)*100} %\")"
      ],
      "execution_count": 63,
      "outputs": [
        {
          "output_type": "stream",
          "text": [
            "The accuracy of the model is 74.3 %\n"
          ],
          "name": "stdout"
        }
      ]
    },
    {
      "cell_type": "code",
      "metadata": {
        "id": "oSaDxUzhx8Ty"
      },
      "source": [
        "train_probs = pipe.predict_proba(X_train)[:,1] \n",
        "probs = pipe.predict_proba(X_test)[:, 1]\n",
        "train_predictions = pipe.predict(X_train)"
      ],
      "execution_count": 64,
      "outputs": []
    },
    {
      "cell_type": "code",
      "metadata": {
        "colab": {
          "base_uri": "https://localhost:8080/"
        },
        "id": "939UCo9Px8Tz",
        "outputId": "717d4ff3-6d14-4007-9e49-1d5f60ab6dc7"
      },
      "source": [
        "print(f'Train ROC AUC Score: {roc_auc_score(y_train, train_probs)}')\n",
        "print(f'Test ROC AUC  Score: {roc_auc_score(y_test, probs)}')"
      ],
      "execution_count": 65,
      "outputs": [
        {
          "output_type": "stream",
          "text": [
            "Train ROC AUC Score: 0.5760600294402758\n",
            "Test ROC AUC  Score: 0.6349889012208657\n"
          ],
          "name": "stdout"
        }
      ]
    },
    {
      "cell_type": "code",
      "metadata": {
        "id": "NRv162T3x8T0"
      },
      "source": [
        "def evaluate_model(y_pred, probs,train_predictions, train_probs):\n",
        "\n",
        "    baseline = {}    \n",
        "    baseline['recall']=recall_score(y_test, [1 for _ in range(len(y_test))])    \n",
        "    baseline['precision'] = precision_score(y_test,[1 for _ in range(len(y_test))])    \n",
        "    baseline['roc'] = 0.5\n",
        "\n",
        "    for metric in ['recall', 'precision', 'roc']:  \n",
        "      print(f'{metric.capitalize()}')\n",
        "\n",
        "    results = {}\n",
        "    results['recall'] = recall_score(y_test, y_pred)\n",
        "    results['precision'] = precision_score(y_test, y_pred)\n",
        "    results['roc'] = roc_auc_score(y_test, probs)\n",
        "\n",
        "    train_results = {}\n",
        "    train_results['recall'] = recall_score(y_train,       train_predictions)\n",
        "    train_results['precision'] = precision_score(y_train, train_predictions)\n",
        "    train_results['roc'] = roc_auc_score(y_train, train_probs)\n",
        "\n",
        "    Baseline = {round(baseline[metric], 2)}\n",
        "\n",
        "    Test = {round(results[metric], 2)}\n",
        "\n",
        "    Train = {round(train_results[metric], 2)}\n",
        "    \n",
        "    labels=np.unique(y_pred)\n",
        "    return(Baseline, Test, Train)"
      ],
      "execution_count": 66,
      "outputs": []
    },
    {
      "cell_type": "code",
      "metadata": {
        "id": "rhBSdTtOx8T7"
      },
      "source": [
        "# Calculate false positive rates and true positive rates and plot ROC curves\n",
        "base_fpr, base_tpr, _ = roc_curve(y_test, [1 for _ in range(len(y_test))])\n",
        "model_fpr, model_tpr, _ = roc_curve(y_test, probs)\n",
        "plt.figure(figsize = (8, 6))\n",
        "\n",
        "plt.plot(base_fpr, base_tpr, 'b', label = 'baseline')\n",
        "plt.plot(model_fpr, model_tpr, 'r', label = 'model')\n",
        "\n",
        "plt.legend();\n",
        "plt.xlabel('False Positive Rate');\n",
        "plt.ylabel('True Positive Rate'); plt.title('ROC Curves');\n",
        "plt.savefig('roc_curves.jpg');\n"
      ],
      "execution_count": 67,
      "outputs": []
    },
    {
      "cell_type": "code",
      "metadata": {
        "colab": {
          "base_uri": "https://localhost:8080/"
        },
        "id": "ZbhFHzpZ7EXk",
        "outputId": "ba55f10b-1bdf-47a2-bede-c7d070b5b958"
      },
      "source": [
        "evaluate_model(y_pred,probs,train_predictions,train_probs)"
      ],
      "execution_count": 68,
      "outputs": [
        {
          "output_type": "stream",
          "text": [
            "Recall\n",
            "Precision\n",
            "Roc\n"
          ],
          "name": "stdout"
        },
        {
          "output_type": "stream",
          "text": [
            "/usr/local/lib/python3.6/dist-packages/sklearn/metrics/_classification.py:1272: UndefinedMetricWarning: Precision is ill-defined and being set to 0.0 due to no predicted samples. Use `zero_division` parameter to control this behavior.\n",
            "  _warn_prf(average, modifier, msg_start, len(result))\n",
            "/usr/local/lib/python3.6/dist-packages/sklearn/metrics/_classification.py:1272: UndefinedMetricWarning: Precision is ill-defined and being set to 0.0 due to no predicted samples. Use `zero_division` parameter to control this behavior.\n",
            "  _warn_prf(average, modifier, msg_start, len(result))\n"
          ],
          "name": "stderr"
        },
        {
          "output_type": "execute_result",
          "data": {
            "text/plain": [
              "({0.5}, {0.63}, {0.58})"
            ]
          },
          "metadata": {
            "tags": []
          },
          "execution_count": 68
        }
      ]
    },
    {
      "cell_type": "code",
      "metadata": {
        "colab": {
          "base_uri": "https://localhost:8080/"
        },
        "id": "YET_GzsQx8T-",
        "outputId": "cfb4b5a0-a96c-4919-b93a-3fc3f3b8fce1"
      },
      "source": [
        "print(rf_classifier.feature_importances_)\n",
        "print(f\" There are {len(rf_classifier.feature_importances_)} features in total\")"
      ],
      "execution_count": 69,
      "outputs": [
        {
          "output_type": "stream",
          "text": [
            "[1.]\n",
            " There are 1 features in total\n"
          ],
          "name": "stdout"
        }
      ]
    },
    {
      "cell_type": "code",
      "metadata": {
        "id": "Y2U3GdYkx8UH"
      },
      "source": [
        ""
      ],
      "execution_count": 69,
      "outputs": []
    }
  ]
}