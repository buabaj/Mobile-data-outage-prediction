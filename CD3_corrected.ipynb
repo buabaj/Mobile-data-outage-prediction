{
  "nbformat": 4,
  "nbformat_minor": 0,
  "metadata": {
    "kernelspec": {
      "display_name": "Python 3",
      "language": "python",
      "name": "python3"
    },
    "language_info": {
      "codemirror_mode": {
        "name": "ipython",
        "version": 3
      },
      "file_extension": ".py",
      "mimetype": "text/x-python",
      "name": "python",
      "nbconvert_exporter": "python",
      "pygments_lexer": "ipython3",
      "version": "3.8.5"
    },
    "colab": {
      "name": "CD3_corrected.ipynb",
      "provenance": [],
      "include_colab_link": true
    }
  },
  "cells": [
    {
      "cell_type": "markdown",
      "metadata": {
        "id": "view-in-github",
        "colab_type": "text"
      },
      "source": [
        "<a href=\"https://colab.research.google.com/github/buabaj/Mobile-data-outage-prediction/blob/main/CD3_corrected.ipynb\" target=\"_parent\"><img src=\"https://colab.research.google.com/assets/colab-badge.svg\" alt=\"Open In Colab\"/></a>"
      ]
    },
    {
      "cell_type": "code",
      "metadata": {
        "id": "OMA512R9Xw4A"
      },
      "source": [
        "import pandas as pd\n",
        "import numpy as np\n",
        "import matplotlib.pyplot as plt"
      ],
      "execution_count": 19,
      "outputs": []
    },
    {
      "cell_type": "code",
      "metadata": {
        "id": "gmaasDPoXw4d"
      },
      "source": [
        "data = pd.read_excel('SD3.xlsx')"
      ],
      "execution_count": 20,
      "outputs": []
    },
    {
      "cell_type": "code",
      "metadata": {
        "colab": {
          "base_uri": "https://localhost:8080/"
        },
        "id": "abXo2EoAXw4f",
        "outputId": "1fd8bbef-9d6c-4607-a84a-66cd856bc43a"
      },
      "source": [
        "data.isnull().sum()"
      ],
      "execution_count": 21,
      "outputs": [
        {
          "output_type": "execute_result",
          "data": {
            "text/plain": [
              "REGION       0\n",
              " CAUSE       0\n",
              " 2G          0\n",
              "3G           0\n",
              "4G           0\n",
              "CATEGORY     0\n",
              "REFERENCE    0\n",
              "DATE         0\n",
              "MTTR         0\n",
              "MONTH        0\n",
              "dtype: int64"
            ]
          },
          "metadata": {
            "tags": []
          },
          "execution_count": 21
        }
      ]
    },
    {
      "cell_type": "code",
      "metadata": {
        "colab": {
          "base_uri": "https://localhost:8080/"
        },
        "id": "67v0bQvcXw4h",
        "outputId": "dbd5131e-e14f-48db-9cfd-047bee81832a"
      },
      "source": [
        "!pip install xplore\r\n",
        "from xplore.data import xplore"
      ],
      "execution_count": 22,
      "outputs": [
        {
          "output_type": "stream",
          "text": [
            "Requirement already satisfied: xplore in /usr/local/lib/python3.6/dist-packages (0.0.1)\n",
            "Requirement already satisfied: pandas-profiling in /usr/local/lib/python3.6/dist-packages (from xplore) (1.4.1)\n",
            "Requirement already satisfied: pandas in /usr/local/lib/python3.6/dist-packages (from xplore) (1.1.5)\n",
            "Requirement already satisfied: jinja2>=2.8 in /usr/local/lib/python3.6/dist-packages (from pandas-profiling->xplore) (2.11.2)\n",
            "Requirement already satisfied: six>=1.9 in /usr/local/lib/python3.6/dist-packages (from pandas-profiling->xplore) (1.15.0)\n",
            "Requirement already satisfied: matplotlib>=1.4 in /usr/local/lib/python3.6/dist-packages (from pandas-profiling->xplore) (3.2.2)\n",
            "Requirement already satisfied: pytz>=2017.2 in /usr/local/lib/python3.6/dist-packages (from pandas->xplore) (2018.9)\n",
            "Requirement already satisfied: python-dateutil>=2.7.3 in /usr/local/lib/python3.6/dist-packages (from pandas->xplore) (2.8.1)\n",
            "Requirement already satisfied: numpy>=1.15.4 in /usr/local/lib/python3.6/dist-packages (from pandas->xplore) (1.19.4)\n",
            "Requirement already satisfied: MarkupSafe>=0.23 in /usr/local/lib/python3.6/dist-packages (from jinja2>=2.8->pandas-profiling->xplore) (1.1.1)\n",
            "Requirement already satisfied: cycler>=0.10 in /usr/local/lib/python3.6/dist-packages (from matplotlib>=1.4->pandas-profiling->xplore) (0.10.0)\n",
            "Requirement already satisfied: pyparsing!=2.0.4,!=2.1.2,!=2.1.6,>=2.0.1 in /usr/local/lib/python3.6/dist-packages (from matplotlib>=1.4->pandas-profiling->xplore) (2.4.7)\n",
            "Requirement already satisfied: kiwisolver>=1.0.1 in /usr/local/lib/python3.6/dist-packages (from matplotlib>=1.4->pandas-profiling->xplore) (1.3.1)\n"
          ],
          "name": "stdout"
        }
      ]
    },
    {
      "cell_type": "code",
      "metadata": {
        "colab": {
          "base_uri": "https://localhost:8080/"
        },
        "id": "MKZjgUYBXw4h",
        "outputId": "43d7b104-79a4-4e20-9b81-ed1375d5cbe6"
      },
      "source": [
        "xplore(data)"
      ],
      "execution_count": 23,
      "outputs": [
        {
          "output_type": "stream",
          "text": [
            "------------------------------------\n",
            "The fist 5 entries of your dataset are:\n",
            "\n",
            "   REGION   CAUSE   2G   3G   ...         REFERENCE      DATE         MTTR   MONTH\n",
            "0       8       6     4    1  ...  2018010100000026  20180101    75.000000  201801\n",
            "1       8       6     4    1  ...  2018010100000051  20180101   292.000000  201801\n",
            "2       4       6     2    0  ...  2018010100000056  20180101  2307.000000  201801\n",
            "3       4       8     1    1  ...  2018010100000076  20180101   265.733333  201801\n",
            "4       5       4     5    2  ...  2018010100000079  20180101    33.000000  201801\n",
            "\n",
            "[5 rows x 10 columns]\n",
            "\n",
            "\n",
            "------------------------------------\n",
            "The last 5 entries of your dataset are:\n",
            "\n",
            "      REGION   CAUSE   2G   3G   ...         REFERENCE      DATE       MTTR   MONTH\n",
            "1993       9       6    18   12  ...  2018081800000135  20180818   4.800000  201808\n",
            "1994       1       6    13    0  ...  2018081800000158  20180818  94.083333  201808\n",
            "1995       7       6    36   27  ...  2018081900000032  20180819   6.066667  201808\n",
            "1996       9       8     7    6  ...  2018081900000040  20180819   5.950000  201808\n",
            "1997       9       9    21   20  ...  2018081900000042  20180819   4.050000  201808\n",
            "\n",
            "[5 rows x 10 columns]\n",
            "\n",
            "\n",
            "------------------------------------\n",
            "Stats on your dataset:\n",
            "\n",
            "<bound method NDFrame.describe of       REGION   CAUSE   2G   ...      DATE         MTTR   MONTH\n",
            "0          8       6     4  ...  20180101    75.000000  201801\n",
            "1          8       6     4  ...  20180101   292.000000  201801\n",
            "2          4       6     2  ...  20180101  2307.000000  201801\n",
            "3          4       8     1  ...  20180101   265.733333  201801\n",
            "4          5       4     5  ...  20180101    33.000000  201801\n",
            "...      ...     ...   ...  ...       ...          ...     ...\n",
            "1993       9       6    18  ...  20180818     4.800000  201808\n",
            "1994       1       6    13  ...  20180818    94.083333  201808\n",
            "1995       7       6    36  ...  20180819     6.066667  201808\n",
            "1996       9       8     7  ...  20180819     5.950000  201808\n",
            "1997       9       9    21  ...  20180819     4.050000  201808\n",
            "\n",
            "[1998 rows x 10 columns]>\n",
            "\n",
            "\n",
            "------------------------------------\n",
            "The Value types of each column are:\n",
            "\n",
            "REGION         int64\n",
            " CAUSE         int64\n",
            " 2G            int64\n",
            "3G             int64\n",
            "4G             int64\n",
            "CATEGORY       int64\n",
            "REFERENCE      int64\n",
            "DATE           int64\n",
            "MTTR         float64\n",
            "MONTH          int64\n",
            "dtype: object\n",
            "\n",
            "\n",
            "------------------------------------\n",
            "Info on your Dataset:\n",
            "\n",
            "<bound method DataFrame.info of       REGION   CAUSE   2G   ...      DATE         MTTR   MONTH\n",
            "0          8       6     4  ...  20180101    75.000000  201801\n",
            "1          8       6     4  ...  20180101   292.000000  201801\n",
            "2          4       6     2  ...  20180101  2307.000000  201801\n",
            "3          4       8     1  ...  20180101   265.733333  201801\n",
            "4          5       4     5  ...  20180101    33.000000  201801\n",
            "...      ...     ...   ...  ...       ...          ...     ...\n",
            "1993       9       6    18  ...  20180818     4.800000  201808\n",
            "1994       1       6    13  ...  20180818    94.083333  201808\n",
            "1995       7       6    36  ...  20180819     6.066667  201808\n",
            "1996       9       8     7  ...  20180819     5.950000  201808\n",
            "1997       9       9    21  ...  20180819     4.050000  201808\n",
            "\n",
            "[1998 rows x 10 columns]>\n",
            "\n",
            "\n",
            "------------------------------------\n",
            "The shape of your dataset in the order of rows and columns is:\n",
            "\n",
            "(1998, 10)\n",
            "\n",
            "\n",
            "------------------------------------\n",
            "The features of your dataset are:\n",
            "\n",
            "Index(['REGION', ' CAUSE', ' 2G ', '3G ', '4G', 'CATEGORY', 'REFERENCE',\n",
            "       'DATE', 'MTTR', 'MONTH'],\n",
            "      dtype='object')\n",
            "\n",
            "\n",
            "------------------------------------\n",
            "The total number of null values from individual columns of your data set are:\n",
            "\n",
            "REGION       0\n",
            " CAUSE       0\n",
            " 2G          0\n",
            "3G           0\n",
            "4G           0\n",
            "CATEGORY     0\n",
            "REFERENCE    0\n",
            "DATE         0\n",
            "MTTR         0\n",
            "MONTH        0\n",
            "dtype: int64\n",
            "\n",
            "\n",
            "------------------------------------\n",
            "The number of rows in your dataset are:\n",
            "\n",
            "1998\n",
            "\n",
            "\n",
            "------------------------------------\n",
            "The values in your dataset are:\n",
            "\n",
            "[[8.00000000e+00 6.00000000e+00 4.00000000e+00 ... 2.01801010e+07\n",
            "  7.50000000e+01 2.01801000e+05]\n",
            " [8.00000000e+00 6.00000000e+00 4.00000000e+00 ... 2.01801010e+07\n",
            "  2.92000000e+02 2.01801000e+05]\n",
            " [4.00000000e+00 6.00000000e+00 2.00000000e+00 ... 2.01801010e+07\n",
            "  2.30700000e+03 2.01801000e+05]\n",
            " ...\n",
            " [7.00000000e+00 6.00000000e+00 3.60000000e+01 ... 2.01808190e+07\n",
            "  6.06666666e+00 2.01808000e+05]\n",
            " [9.00000000e+00 8.00000000e+00 7.00000000e+00 ... 2.01808190e+07\n",
            "  5.95000000e+00 2.01808000e+05]\n",
            " [9.00000000e+00 9.00000000e+00 2.10000000e+01 ... 2.01808190e+07\n",
            "  4.05000000e+00 2.01808000e+05]]\n",
            "\n",
            "\n",
            "------------------------------------\n",
            "\n",
            "\n",
            "Do you want to generate a detailed report on the exploration of your dataset?\n",
            "[y/n]: n\n",
            "Process Completed\n"
          ],
          "name": "stdout"
        },
        {
          "output_type": "execute_result",
          "data": {
            "text/plain": [
              "<xplore.data.xplore at 0x7f77a618dc88>"
            ]
          },
          "metadata": {
            "tags": []
          },
          "execution_count": 23
        }
      ]
    },
    {
      "cell_type": "code",
      "metadata": {
        "colab": {
          "base_uri": "https://localhost:8080/",
          "height": 422
        },
        "id": "Jdc-dqBYXw4j",
        "outputId": "8cd7a1c0-5f23-4432-da4d-10b3302db68a"
      },
      "source": [
        "df = pd.DataFrame(data)\n",
        "df"
      ],
      "execution_count": 24,
      "outputs": [
        {
          "output_type": "execute_result",
          "data": {
            "text/html": [
              "<div>\n",
              "<style scoped>\n",
              "    .dataframe tbody tr th:only-of-type {\n",
              "        vertical-align: middle;\n",
              "    }\n",
              "\n",
              "    .dataframe tbody tr th {\n",
              "        vertical-align: top;\n",
              "    }\n",
              "\n",
              "    .dataframe thead th {\n",
              "        text-align: right;\n",
              "    }\n",
              "</style>\n",
              "<table border=\"1\" class=\"dataframe\">\n",
              "  <thead>\n",
              "    <tr style=\"text-align: right;\">\n",
              "      <th></th>\n",
              "      <th>REGION</th>\n",
              "      <th>CAUSE</th>\n",
              "      <th>2G</th>\n",
              "      <th>3G</th>\n",
              "      <th>4G</th>\n",
              "      <th>CATEGORY</th>\n",
              "      <th>REFERENCE</th>\n",
              "      <th>DATE</th>\n",
              "      <th>MTTR</th>\n",
              "      <th>MONTH</th>\n",
              "    </tr>\n",
              "  </thead>\n",
              "  <tbody>\n",
              "    <tr>\n",
              "      <th>0</th>\n",
              "      <td>8</td>\n",
              "      <td>6</td>\n",
              "      <td>4</td>\n",
              "      <td>1</td>\n",
              "      <td>0</td>\n",
              "      <td>1</td>\n",
              "      <td>2018010100000026</td>\n",
              "      <td>20180101</td>\n",
              "      <td>75.000000</td>\n",
              "      <td>201801</td>\n",
              "    </tr>\n",
              "    <tr>\n",
              "      <th>1</th>\n",
              "      <td>8</td>\n",
              "      <td>6</td>\n",
              "      <td>4</td>\n",
              "      <td>1</td>\n",
              "      <td>0</td>\n",
              "      <td>1</td>\n",
              "      <td>2018010100000051</td>\n",
              "      <td>20180101</td>\n",
              "      <td>292.000000</td>\n",
              "      <td>201801</td>\n",
              "    </tr>\n",
              "    <tr>\n",
              "      <th>2</th>\n",
              "      <td>4</td>\n",
              "      <td>6</td>\n",
              "      <td>2</td>\n",
              "      <td>0</td>\n",
              "      <td>0</td>\n",
              "      <td>1</td>\n",
              "      <td>2018010100000056</td>\n",
              "      <td>20180101</td>\n",
              "      <td>2307.000000</td>\n",
              "      <td>201801</td>\n",
              "    </tr>\n",
              "    <tr>\n",
              "      <th>3</th>\n",
              "      <td>4</td>\n",
              "      <td>8</td>\n",
              "      <td>1</td>\n",
              "      <td>1</td>\n",
              "      <td>0</td>\n",
              "      <td>1</td>\n",
              "      <td>2018010100000076</td>\n",
              "      <td>20180101</td>\n",
              "      <td>265.733333</td>\n",
              "      <td>201801</td>\n",
              "    </tr>\n",
              "    <tr>\n",
              "      <th>4</th>\n",
              "      <td>5</td>\n",
              "      <td>4</td>\n",
              "      <td>5</td>\n",
              "      <td>2</td>\n",
              "      <td>0</td>\n",
              "      <td>0</td>\n",
              "      <td>2018010100000079</td>\n",
              "      <td>20180101</td>\n",
              "      <td>33.000000</td>\n",
              "      <td>201801</td>\n",
              "    </tr>\n",
              "    <tr>\n",
              "      <th>...</th>\n",
              "      <td>...</td>\n",
              "      <td>...</td>\n",
              "      <td>...</td>\n",
              "      <td>...</td>\n",
              "      <td>...</td>\n",
              "      <td>...</td>\n",
              "      <td>...</td>\n",
              "      <td>...</td>\n",
              "      <td>...</td>\n",
              "      <td>...</td>\n",
              "    </tr>\n",
              "    <tr>\n",
              "      <th>1993</th>\n",
              "      <td>9</td>\n",
              "      <td>6</td>\n",
              "      <td>18</td>\n",
              "      <td>12</td>\n",
              "      <td>4</td>\n",
              "      <td>0</td>\n",
              "      <td>2018081800000135</td>\n",
              "      <td>20180818</td>\n",
              "      <td>4.800000</td>\n",
              "      <td>201808</td>\n",
              "    </tr>\n",
              "    <tr>\n",
              "      <th>1994</th>\n",
              "      <td>1</td>\n",
              "      <td>6</td>\n",
              "      <td>13</td>\n",
              "      <td>0</td>\n",
              "      <td>0</td>\n",
              "      <td>0</td>\n",
              "      <td>2018081800000158</td>\n",
              "      <td>20180818</td>\n",
              "      <td>94.083333</td>\n",
              "      <td>201808</td>\n",
              "    </tr>\n",
              "    <tr>\n",
              "      <th>1995</th>\n",
              "      <td>7</td>\n",
              "      <td>6</td>\n",
              "      <td>36</td>\n",
              "      <td>27</td>\n",
              "      <td>9</td>\n",
              "      <td>0</td>\n",
              "      <td>2018081900000032</td>\n",
              "      <td>20180819</td>\n",
              "      <td>6.066667</td>\n",
              "      <td>201808</td>\n",
              "    </tr>\n",
              "    <tr>\n",
              "      <th>1996</th>\n",
              "      <td>9</td>\n",
              "      <td>8</td>\n",
              "      <td>7</td>\n",
              "      <td>6</td>\n",
              "      <td>0</td>\n",
              "      <td>0</td>\n",
              "      <td>2018081900000040</td>\n",
              "      <td>20180819</td>\n",
              "      <td>5.950000</td>\n",
              "      <td>201808</td>\n",
              "    </tr>\n",
              "    <tr>\n",
              "      <th>1997</th>\n",
              "      <td>9</td>\n",
              "      <td>9</td>\n",
              "      <td>21</td>\n",
              "      <td>20</td>\n",
              "      <td>3</td>\n",
              "      <td>0</td>\n",
              "      <td>2018081900000042</td>\n",
              "      <td>20180819</td>\n",
              "      <td>4.050000</td>\n",
              "      <td>201808</td>\n",
              "    </tr>\n",
              "  </tbody>\n",
              "</table>\n",
              "<p>1998 rows × 10 columns</p>\n",
              "</div>"
            ],
            "text/plain": [
              "      REGION   CAUSE   2G   ...      DATE         MTTR   MONTH\n",
              "0          8       6     4  ...  20180101    75.000000  201801\n",
              "1          8       6     4  ...  20180101   292.000000  201801\n",
              "2          4       6     2  ...  20180101  2307.000000  201801\n",
              "3          4       8     1  ...  20180101   265.733333  201801\n",
              "4          5       4     5  ...  20180101    33.000000  201801\n",
              "...      ...     ...   ...  ...       ...          ...     ...\n",
              "1993       9       6    18  ...  20180818     4.800000  201808\n",
              "1994       1       6    13  ...  20180818    94.083333  201808\n",
              "1995       7       6    36  ...  20180819     6.066667  201808\n",
              "1996       9       8     7  ...  20180819     5.950000  201808\n",
              "1997       9       9    21  ...  20180819     4.050000  201808\n",
              "\n",
              "[1998 rows x 10 columns]"
            ]
          },
          "metadata": {
            "tags": []
          },
          "execution_count": 24
        }
      ]
    },
    {
      "cell_type": "code",
      "metadata": {
        "id": "0z7vJ8nMXw4k"
      },
      "source": [
        "X = df.drop('REFERENCE', axis='columns')"
      ],
      "execution_count": 25,
      "outputs": []
    },
    {
      "cell_type": "code",
      "metadata": {
        "id": "H93pSBpMXw4l"
      },
      "source": [
        "y = df[['MTTR']].astype(float).astype(int)"
      ],
      "execution_count": 26,
      "outputs": []
    },
    {
      "cell_type": "code",
      "metadata": {
        "colab": {
          "base_uri": "https://localhost:8080/",
          "height": 402
        },
        "id": "LaxAr53fd4nj",
        "outputId": "958b16bc-cbf1-4df2-8d09-60709c59529a"
      },
      "source": [
        "y"
      ],
      "execution_count": 27,
      "outputs": [
        {
          "output_type": "execute_result",
          "data": {
            "text/html": [
              "<div>\n",
              "<style scoped>\n",
              "    .dataframe tbody tr th:only-of-type {\n",
              "        vertical-align: middle;\n",
              "    }\n",
              "\n",
              "    .dataframe tbody tr th {\n",
              "        vertical-align: top;\n",
              "    }\n",
              "\n",
              "    .dataframe thead th {\n",
              "        text-align: right;\n",
              "    }\n",
              "</style>\n",
              "<table border=\"1\" class=\"dataframe\">\n",
              "  <thead>\n",
              "    <tr style=\"text-align: right;\">\n",
              "      <th></th>\n",
              "      <th>MTTR</th>\n",
              "    </tr>\n",
              "  </thead>\n",
              "  <tbody>\n",
              "    <tr>\n",
              "      <th>0</th>\n",
              "      <td>75</td>\n",
              "    </tr>\n",
              "    <tr>\n",
              "      <th>1</th>\n",
              "      <td>292</td>\n",
              "    </tr>\n",
              "    <tr>\n",
              "      <th>2</th>\n",
              "      <td>2307</td>\n",
              "    </tr>\n",
              "    <tr>\n",
              "      <th>3</th>\n",
              "      <td>265</td>\n",
              "    </tr>\n",
              "    <tr>\n",
              "      <th>4</th>\n",
              "      <td>33</td>\n",
              "    </tr>\n",
              "    <tr>\n",
              "      <th>...</th>\n",
              "      <td>...</td>\n",
              "    </tr>\n",
              "    <tr>\n",
              "      <th>1993</th>\n",
              "      <td>4</td>\n",
              "    </tr>\n",
              "    <tr>\n",
              "      <th>1994</th>\n",
              "      <td>94</td>\n",
              "    </tr>\n",
              "    <tr>\n",
              "      <th>1995</th>\n",
              "      <td>6</td>\n",
              "    </tr>\n",
              "    <tr>\n",
              "      <th>1996</th>\n",
              "      <td>5</td>\n",
              "    </tr>\n",
              "    <tr>\n",
              "      <th>1997</th>\n",
              "      <td>4</td>\n",
              "    </tr>\n",
              "  </tbody>\n",
              "</table>\n",
              "<p>1998 rows × 1 columns</p>\n",
              "</div>"
            ],
            "text/plain": [
              "      MTTR\n",
              "0       75\n",
              "1      292\n",
              "2     2307\n",
              "3      265\n",
              "4       33\n",
              "...    ...\n",
              "1993     4\n",
              "1994    94\n",
              "1995     6\n",
              "1996     5\n",
              "1997     4\n",
              "\n",
              "[1998 rows x 1 columns]"
            ]
          },
          "metadata": {
            "tags": []
          },
          "execution_count": 27
        }
      ]
    },
    {
      "cell_type": "code",
      "metadata": {
        "id": "uYUSI7N0Xw4m"
      },
      "source": [
        "seed = 50  # so that the result is reproducible\n",
        "from sklearn.model_selection import train_test_split\n",
        "X_train, X_test, y_train, y_test = train_test_split(X,y,test_size=0.2, random_state = seed)"
      ],
      "execution_count": 28,
      "outputs": []
    },
    {
      "cell_type": "code",
      "metadata": {
        "colab": {
          "base_uri": "https://localhost:8080/"
        },
        "id": "VyvBg2QJXw4m",
        "outputId": "6396b633-d937-413b-bb17-8502ab8ba832"
      },
      "source": [
        "X_train.dtypes"
      ],
      "execution_count": 29,
      "outputs": [
        {
          "output_type": "execute_result",
          "data": {
            "text/plain": [
              "REGION        int64\n",
              " CAUSE        int64\n",
              " 2G           int64\n",
              "3G            int64\n",
              "4G            int64\n",
              "CATEGORY      int64\n",
              "DATE          int64\n",
              "MTTR        float64\n",
              "MONTH         int64\n",
              "dtype: object"
            ]
          },
          "metadata": {
            "tags": []
          },
          "execution_count": 29
        }
      ]
    },
    {
      "cell_type": "code",
      "metadata": {
        "id": "dPzhwo57Xw4n"
      },
      "source": [
        "features_to_encode = list(X_train.select_dtypes(include = ['object']).columns)"
      ],
      "execution_count": 30,
      "outputs": []
    },
    {
      "cell_type": "code",
      "metadata": {
        "id": "AqM8tHZoXw4n"
      },
      "source": [
        "from sklearn.preprocessing import OneHotEncoder\n",
        "from sklearn.compose import make_column_transformer\n",
        "col_trans = make_column_transformer(\n",
        "                        (OneHotEncoder(),features_to_encode),\n",
        "                        remainder = \"passthrough\"\n",
        "                        )"
      ],
      "execution_count": 31,
      "outputs": []
    },
    {
      "cell_type": "code",
      "metadata": {
        "id": "lZND1zrhXw4o"
      },
      "source": [
        "from sklearn.ensemble import RandomForestClassifier\n",
        "rf_classifier = RandomForestClassifier(\n",
        "                      min_samples_leaf=50,\n",
        "                      n_estimators=150,\n",
        "                      bootstrap=True,\n",
        "                      oob_score=True,\n",
        "                      n_jobs=-1,\n",
        "                      random_state=seed,\n",
        "                      max_features='auto')"
      ],
      "execution_count": 32,
      "outputs": []
    },
    {
      "cell_type": "code",
      "metadata": {
        "colab": {
          "base_uri": "https://localhost:8080/"
        },
        "id": "oZL3QF5QXw4o",
        "outputId": "13fc3548-1334-465b-9255-963e55d98a28"
      },
      "source": [
        "from sklearn.pipeline import make_pipeline\n",
        "pipe = make_pipeline(col_trans, rf_classifier)\n",
        "np.array(X_train, dtype=np.float32)\n",
        "pipe.fit(X_train, y_train)"
      ],
      "execution_count": 33,
      "outputs": [
        {
          "output_type": "stream",
          "text": [
            "/usr/local/lib/python3.6/dist-packages/sklearn/pipeline.py:354: DataConversionWarning: A column-vector y was passed when a 1d array was expected. Please change the shape of y to (n_samples,), for example using ravel().\n",
            "  self._final_estimator.fit(Xt, y, **fit_params)\n"
          ],
          "name": "stderr"
        },
        {
          "output_type": "execute_result",
          "data": {
            "text/plain": [
              "Pipeline(memory=None,\n",
              "         steps=[('columntransformer',\n",
              "                 ColumnTransformer(n_jobs=None, remainder='passthrough',\n",
              "                                   sparse_threshold=0.3,\n",
              "                                   transformer_weights=None,\n",
              "                                   transformers=[('onehotencoder',\n",
              "                                                  OneHotEncoder(categories='auto',\n",
              "                                                                drop=None,\n",
              "                                                                dtype=<class 'numpy.float64'>,\n",
              "                                                                handle_unknown='error',\n",
              "                                                                sparse=True),\n",
              "                                                  [])],\n",
              "                                   verbose=False)),\n",
              "                ('randomforestclassifier',\n",
              "                 RandomForestClas...ap=True, ccp_alpha=0.0,\n",
              "                                        class_weight=None, criterion='gini',\n",
              "                                        max_depth=None, max_features='auto',\n",
              "                                        max_leaf_nodes=None, max_samples=None,\n",
              "                                        min_impurity_decrease=0.0,\n",
              "                                        min_impurity_split=None,\n",
              "                                        min_samples_leaf=50,\n",
              "                                        min_samples_split=2,\n",
              "                                        min_weight_fraction_leaf=0.0,\n",
              "                                        n_estimators=150, n_jobs=-1,\n",
              "                                        oob_score=True, random_state=50,\n",
              "                                        verbose=0, warm_start=False))],\n",
              "         verbose=False)"
            ]
          },
          "metadata": {
            "tags": []
          },
          "execution_count": 33
        }
      ]
    },
    {
      "cell_type": "code",
      "metadata": {
        "id": "bwMnPc1vXw4p"
      },
      "source": [
        ""
      ],
      "execution_count": 33,
      "outputs": []
    }
  ]
}