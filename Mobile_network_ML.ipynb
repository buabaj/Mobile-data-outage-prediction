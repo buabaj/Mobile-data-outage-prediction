{
  "nbformat": 4,
  "nbformat_minor": 0,
  "metadata": {
    "colab": {
      "name": "Mobile-network-ML.ipynb",
      "provenance": [],
      "collapsed_sections": []
    },
    "kernelspec": {
      "name": "python3",
      "display_name": "Python 3"
    },
    "accelerator": "GPU"
  },
  "cells": [
    {
      "cell_type": "code",
      "metadata": {
        "id": "O7JhCWA6Fmpx"
      },
      "source": [
        "import pandas as pd\r\n",
        "import numpy as np\r\n",
        "import matplotlib.pyplot as plt"
      ],
      "execution_count": 1,
      "outputs": []
    },
    {
      "cell_type": "code",
      "metadata": {
        "id": "ZI629s-UGJI4"
      },
      "source": [
        "data = pd.read_excel('mobile_network.xlsx')"
      ],
      "execution_count": 2,
      "outputs": []
    },
    {
      "cell_type": "code",
      "metadata": {
        "colab": {
          "base_uri": "https://localhost:8080/"
        },
        "id": "YpT4hxmGGfxp",
        "outputId": "0ac10c03-bfc4-4ee2-fde4-18176988732c"
      },
      "source": [
        "data.isnull().sum()"
      ],
      "execution_count": 3,
      "outputs": [
        {
          "output_type": "execute_result",
          "data": {
            "text/plain": [
              "REGION           0\n",
              "DESIGNATION      0\n",
              "Unnamed: 2       0\n",
              "Unnamed: 3      10\n",
              "FAULT LEVEL      8\n",
              "VALUE            8\n",
              "Unnamed: 6      10\n",
              "OUTAGE CAUSE     0\n",
              "VALUE.1          0\n",
              "dtype: int64"
            ]
          },
          "metadata": {
            "tags": []
          },
          "execution_count": 3
        }
      ]
    },
    {
      "cell_type": "code",
      "metadata": {
        "colab": {
          "base_uri": "https://localhost:8080/"
        },
        "id": "tKb49NNzGrpL",
        "outputId": "bca5fcbf-c839-46ef-c889-7ec49d17fee2"
      },
      "source": [
        "!pip install xplore\r\n",
        "from xplore.data import xplore"
      ],
      "execution_count": 4,
      "outputs": [
        {
          "output_type": "stream",
          "text": [
            "Requirement already satisfied: xplore in /usr/local/lib/python3.6/dist-packages (0.0.1)\n",
            "Requirement already satisfied: pandas in /usr/local/lib/python3.6/dist-packages (from xplore) (1.1.5)\n",
            "Requirement already satisfied: pandas-profiling in /usr/local/lib/python3.6/dist-packages (from xplore) (1.4.1)\n",
            "Requirement already satisfied: numpy>=1.15.4 in /usr/local/lib/python3.6/dist-packages (from pandas->xplore) (1.18.5)\n",
            "Requirement already satisfied: python-dateutil>=2.7.3 in /usr/local/lib/python3.6/dist-packages (from pandas->xplore) (2.8.1)\n",
            "Requirement already satisfied: pytz>=2017.2 in /usr/local/lib/python3.6/dist-packages (from pandas->xplore) (2018.9)\n",
            "Requirement already satisfied: matplotlib>=1.4 in /usr/local/lib/python3.6/dist-packages (from pandas-profiling->xplore) (3.2.2)\n",
            "Requirement already satisfied: jinja2>=2.8 in /usr/local/lib/python3.6/dist-packages (from pandas-profiling->xplore) (2.11.2)\n",
            "Requirement already satisfied: six>=1.9 in /usr/local/lib/python3.6/dist-packages (from pandas-profiling->xplore) (1.15.0)\n",
            "Requirement already satisfied: pyparsing!=2.0.4,!=2.1.2,!=2.1.6,>=2.0.1 in /usr/local/lib/python3.6/dist-packages (from matplotlib>=1.4->pandas-profiling->xplore) (2.4.7)\n",
            "Requirement already satisfied: cycler>=0.10 in /usr/local/lib/python3.6/dist-packages (from matplotlib>=1.4->pandas-profiling->xplore) (0.10.0)\n",
            "Requirement already satisfied: kiwisolver>=1.0.1 in /usr/local/lib/python3.6/dist-packages (from matplotlib>=1.4->pandas-profiling->xplore) (1.3.1)\n",
            "Requirement already satisfied: MarkupSafe>=0.23 in /usr/local/lib/python3.6/dist-packages (from jinja2>=2.8->pandas-profiling->xplore) (1.1.1)\n"
          ],
          "name": "stdout"
        }
      ]
    },
    {
      "cell_type": "code",
      "metadata": {
        "colab": {
          "base_uri": "https://localhost:8080/"
        },
        "id": "Y2NdNUzLG1H2",
        "outputId": "a23df7ac-3af3-47a5-9abe-c4eb21d52ee4"
      },
      "source": [
        "xplore(data)"
      ],
      "execution_count": 5,
      "outputs": [
        {
          "output_type": "stream",
          "text": [
            "------------------------------------\n",
            "The fist 5 entries of your dataset are:\n",
            "\n",
            "          REGION DESIGNATION  Unnamed: 2  ...  Unnamed: 6      OUTAGE CAUSE  VALUE.1\n",
            "0        ASHANTI           A           0  ...         NaN  CHARGING NETWORK        0\n",
            "1    BRONG AHAFO           B           1  ...         NaN              CORE        1\n",
            "2        CENTRAL           C           2  ...         NaN             FIBER        2\n",
            "3        EASTERN           D           3  ...         NaN          HARDWARE        3\n",
            "4  GREATER ACCRA           E           4  ...         NaN  HIGH TEMPERATURE        4\n",
            "\n",
            "[5 rows x 9 columns]\n",
            "\n",
            "\n",
            "------------------------------------\n",
            "The last 5 entries of your dataset are:\n",
            "\n",
            "       REGION DESIGNATION  Unnamed: 2  ...  Unnamed: 6         OUTAGE CAUSE  VALUE.1\n",
            "5    NORTHERN           F           5  ...         NaN         IP TRANSPORT        5\n",
            "6  UPPER EAST           G           6  ...         NaN         MW TRANSPORT        6\n",
            "7  UPPER WEST           H           7  ...         NaN             PLN WORK        7\n",
            "8       VOLTA           I           8  ...         NaN                POWER        8\n",
            "9     WESTERN           J           9  ...         NaN  UNDER INVESTIGATION        9\n",
            "\n",
            "[5 rows x 9 columns]\n",
            "\n",
            "\n",
            "------------------------------------\n",
            "Stats on your dataset:\n",
            "\n",
            "<bound method NDFrame.describe of           REGION DESIGNATION  ...         OUTAGE CAUSE  VALUE.1\n",
            "0        ASHANTI           A  ...     CHARGING NETWORK        0\n",
            "1    BRONG AHAFO           B  ...                 CORE        1\n",
            "2        CENTRAL           C  ...                FIBER        2\n",
            "3        EASTERN           D  ...             HARDWARE        3\n",
            "4  GREATER ACCRA           E  ...     HIGH TEMPERATURE        4\n",
            "5       NORTHERN           F  ...         IP TRANSPORT        5\n",
            "6     UPPER EAST           G  ...         MW TRANSPORT        6\n",
            "7     UPPER WEST           H  ...             PLN WORK        7\n",
            "8          VOLTA           I  ...                POWER        8\n",
            "9        WESTERN           J  ...  UNDER INVESTIGATION        9\n",
            "\n",
            "[10 rows x 9 columns]>\n",
            "\n",
            "\n",
            "------------------------------------\n",
            "The Value types of each column are:\n",
            "\n",
            "REGION           object\n",
            "DESIGNATION      object\n",
            "Unnamed: 2        int64\n",
            "Unnamed: 3      float64\n",
            "FAULT LEVEL      object\n",
            "VALUE           float64\n",
            "Unnamed: 6      float64\n",
            "OUTAGE CAUSE     object\n",
            "VALUE.1           int64\n",
            "dtype: object\n",
            "\n",
            "\n",
            "------------------------------------\n",
            "Info on your Dataset:\n",
            "\n",
            "<bound method DataFrame.info of           REGION DESIGNATION  ...         OUTAGE CAUSE  VALUE.1\n",
            "0        ASHANTI           A  ...     CHARGING NETWORK        0\n",
            "1    BRONG AHAFO           B  ...                 CORE        1\n",
            "2        CENTRAL           C  ...                FIBER        2\n",
            "3        EASTERN           D  ...             HARDWARE        3\n",
            "4  GREATER ACCRA           E  ...     HIGH TEMPERATURE        4\n",
            "5       NORTHERN           F  ...         IP TRANSPORT        5\n",
            "6     UPPER EAST           G  ...         MW TRANSPORT        6\n",
            "7     UPPER WEST           H  ...             PLN WORK        7\n",
            "8          VOLTA           I  ...                POWER        8\n",
            "9        WESTERN           J  ...  UNDER INVESTIGATION        9\n",
            "\n",
            "[10 rows x 9 columns]>\n",
            "\n",
            "\n",
            "------------------------------------\n",
            "The shape of your dataset in the order of rows and columns is:\n",
            "\n",
            "(10, 9)\n",
            "\n",
            "\n",
            "------------------------------------\n",
            "The features of your dataset are:\n",
            "\n",
            "Index(['REGION', 'DESIGNATION', 'Unnamed: 2', 'Unnamed: 3', 'FAULT LEVEL',\n",
            "       'VALUE', 'Unnamed: 6', 'OUTAGE CAUSE', 'VALUE.1'],\n",
            "      dtype='object')\n",
            "\n",
            "\n",
            "------------------------------------\n",
            "The total number of null values from individual columns of your data set are:\n",
            "\n",
            "REGION           0\n",
            "DESIGNATION      0\n",
            "Unnamed: 2       0\n",
            "Unnamed: 3      10\n",
            "FAULT LEVEL      8\n",
            "VALUE            8\n",
            "Unnamed: 6      10\n",
            "OUTAGE CAUSE     0\n",
            "VALUE.1          0\n",
            "dtype: int64\n",
            "\n",
            "\n",
            "------------------------------------\n",
            "The number of rows in your dataset are:\n",
            "\n",
            "10\n",
            "\n",
            "\n",
            "------------------------------------\n",
            "The values in your dataset are:\n",
            "\n",
            "[['ASHANTI' 'A' 0 nan 'L1' 0.0 nan 'CHARGING NETWORK' 0]\n",
            " ['BRONG AHAFO' 'B' 1 nan 'L2' 1.0 nan 'CORE' 1]\n",
            " ['CENTRAL' 'C' 2 nan nan nan nan 'FIBER' 2]\n",
            " ['EASTERN' 'D' 3 nan nan nan nan 'HARDWARE' 3]\n",
            " ['GREATER ACCRA' 'E' 4 nan nan nan nan 'HIGH TEMPERATURE' 4]\n",
            " ['NORTHERN' 'F' 5 nan nan nan nan 'IP TRANSPORT' 5]\n",
            " ['UPPER EAST' 'G' 6 nan nan nan nan 'MW TRANSPORT' 6]\n",
            " ['UPPER WEST' 'H' 7 nan nan nan nan 'PLN WORK' 7]\n",
            " ['VOLTA' 'I' 8 nan nan nan nan 'POWER' 8]\n",
            " ['WESTERN' 'J' 9 nan nan nan nan 'UNDER INVESTIGATION' 9]]\n",
            "\n",
            "\n",
            "------------------------------------\n",
            "\n",
            "\n",
            "Do you want to generate a detailed report on the exploration of your dataset?\n",
            "[y/n]: n\n",
            "Process Completed\n"
          ],
          "name": "stdout"
        },
        {
          "output_type": "execute_result",
          "data": {
            "text/plain": [
              "<xplore.data.xplore at 0x7f49463e3278>"
            ]
          },
          "metadata": {
            "tags": []
          },
          "execution_count": 5
        }
      ]
    },
    {
      "cell_type": "code",
      "metadata": {
        "colab": {
          "base_uri": "https://localhost:8080/",
          "height": 343
        },
        "id": "eyGwnSDcP0KY",
        "outputId": "0f94e9ed-cbc4-4502-a673-d3e2dd64a217"
      },
      "source": [
        "df = pd.DataFrame(data)\r\n",
        "df"
      ],
      "execution_count": 6,
      "outputs": [
        {
          "output_type": "execute_result",
          "data": {
            "text/html": [
              "<div>\n",
              "<style scoped>\n",
              "    .dataframe tbody tr th:only-of-type {\n",
              "        vertical-align: middle;\n",
              "    }\n",
              "\n",
              "    .dataframe tbody tr th {\n",
              "        vertical-align: top;\n",
              "    }\n",
              "\n",
              "    .dataframe thead th {\n",
              "        text-align: right;\n",
              "    }\n",
              "</style>\n",
              "<table border=\"1\" class=\"dataframe\">\n",
              "  <thead>\n",
              "    <tr style=\"text-align: right;\">\n",
              "      <th></th>\n",
              "      <th>REGION</th>\n",
              "      <th>DESIGNATION</th>\n",
              "      <th>Unnamed: 2</th>\n",
              "      <th>Unnamed: 3</th>\n",
              "      <th>FAULT LEVEL</th>\n",
              "      <th>VALUE</th>\n",
              "      <th>Unnamed: 6</th>\n",
              "      <th>OUTAGE CAUSE</th>\n",
              "      <th>VALUE.1</th>\n",
              "    </tr>\n",
              "  </thead>\n",
              "  <tbody>\n",
              "    <tr>\n",
              "      <th>0</th>\n",
              "      <td>ASHANTI</td>\n",
              "      <td>A</td>\n",
              "      <td>0</td>\n",
              "      <td>NaN</td>\n",
              "      <td>L1</td>\n",
              "      <td>0.0</td>\n",
              "      <td>NaN</td>\n",
              "      <td>CHARGING NETWORK</td>\n",
              "      <td>0</td>\n",
              "    </tr>\n",
              "    <tr>\n",
              "      <th>1</th>\n",
              "      <td>BRONG AHAFO</td>\n",
              "      <td>B</td>\n",
              "      <td>1</td>\n",
              "      <td>NaN</td>\n",
              "      <td>L2</td>\n",
              "      <td>1.0</td>\n",
              "      <td>NaN</td>\n",
              "      <td>CORE</td>\n",
              "      <td>1</td>\n",
              "    </tr>\n",
              "    <tr>\n",
              "      <th>2</th>\n",
              "      <td>CENTRAL</td>\n",
              "      <td>C</td>\n",
              "      <td>2</td>\n",
              "      <td>NaN</td>\n",
              "      <td>NaN</td>\n",
              "      <td>NaN</td>\n",
              "      <td>NaN</td>\n",
              "      <td>FIBER</td>\n",
              "      <td>2</td>\n",
              "    </tr>\n",
              "    <tr>\n",
              "      <th>3</th>\n",
              "      <td>EASTERN</td>\n",
              "      <td>D</td>\n",
              "      <td>3</td>\n",
              "      <td>NaN</td>\n",
              "      <td>NaN</td>\n",
              "      <td>NaN</td>\n",
              "      <td>NaN</td>\n",
              "      <td>HARDWARE</td>\n",
              "      <td>3</td>\n",
              "    </tr>\n",
              "    <tr>\n",
              "      <th>4</th>\n",
              "      <td>GREATER ACCRA</td>\n",
              "      <td>E</td>\n",
              "      <td>4</td>\n",
              "      <td>NaN</td>\n",
              "      <td>NaN</td>\n",
              "      <td>NaN</td>\n",
              "      <td>NaN</td>\n",
              "      <td>HIGH TEMPERATURE</td>\n",
              "      <td>4</td>\n",
              "    </tr>\n",
              "    <tr>\n",
              "      <th>5</th>\n",
              "      <td>NORTHERN</td>\n",
              "      <td>F</td>\n",
              "      <td>5</td>\n",
              "      <td>NaN</td>\n",
              "      <td>NaN</td>\n",
              "      <td>NaN</td>\n",
              "      <td>NaN</td>\n",
              "      <td>IP TRANSPORT</td>\n",
              "      <td>5</td>\n",
              "    </tr>\n",
              "    <tr>\n",
              "      <th>6</th>\n",
              "      <td>UPPER EAST</td>\n",
              "      <td>G</td>\n",
              "      <td>6</td>\n",
              "      <td>NaN</td>\n",
              "      <td>NaN</td>\n",
              "      <td>NaN</td>\n",
              "      <td>NaN</td>\n",
              "      <td>MW TRANSPORT</td>\n",
              "      <td>6</td>\n",
              "    </tr>\n",
              "    <tr>\n",
              "      <th>7</th>\n",
              "      <td>UPPER WEST</td>\n",
              "      <td>H</td>\n",
              "      <td>7</td>\n",
              "      <td>NaN</td>\n",
              "      <td>NaN</td>\n",
              "      <td>NaN</td>\n",
              "      <td>NaN</td>\n",
              "      <td>PLN WORK</td>\n",
              "      <td>7</td>\n",
              "    </tr>\n",
              "    <tr>\n",
              "      <th>8</th>\n",
              "      <td>VOLTA</td>\n",
              "      <td>I</td>\n",
              "      <td>8</td>\n",
              "      <td>NaN</td>\n",
              "      <td>NaN</td>\n",
              "      <td>NaN</td>\n",
              "      <td>NaN</td>\n",
              "      <td>POWER</td>\n",
              "      <td>8</td>\n",
              "    </tr>\n",
              "    <tr>\n",
              "      <th>9</th>\n",
              "      <td>WESTERN</td>\n",
              "      <td>J</td>\n",
              "      <td>9</td>\n",
              "      <td>NaN</td>\n",
              "      <td>NaN</td>\n",
              "      <td>NaN</td>\n",
              "      <td>NaN</td>\n",
              "      <td>UNDER INVESTIGATION</td>\n",
              "      <td>9</td>\n",
              "    </tr>\n",
              "  </tbody>\n",
              "</table>\n",
              "</div>"
            ],
            "text/plain": [
              "          REGION DESIGNATION  ...         OUTAGE CAUSE  VALUE.1\n",
              "0        ASHANTI           A  ...     CHARGING NETWORK        0\n",
              "1    BRONG AHAFO           B  ...                 CORE        1\n",
              "2        CENTRAL           C  ...                FIBER        2\n",
              "3        EASTERN           D  ...             HARDWARE        3\n",
              "4  GREATER ACCRA           E  ...     HIGH TEMPERATURE        4\n",
              "5       NORTHERN           F  ...         IP TRANSPORT        5\n",
              "6     UPPER EAST           G  ...         MW TRANSPORT        6\n",
              "7     UPPER WEST           H  ...             PLN WORK        7\n",
              "8          VOLTA           I  ...                POWER        8\n",
              "9        WESTERN           J  ...  UNDER INVESTIGATION        9\n",
              "\n",
              "[10 rows x 9 columns]"
            ]
          },
          "metadata": {
            "tags": []
          },
          "execution_count": 6
        }
      ]
    },
    {
      "cell_type": "code",
      "metadata": {
        "id": "3liRCWvnRIoA"
      },
      "source": [
        "## enter the feature columns you want to assing to the dependent and independent variables here\r\n",
        "\r\n",
        "X = df[['']]\r\n",
        "y = df[['']]"
      ],
      "execution_count": null,
      "outputs": []
    },
    {
      "cell_type": "code",
      "metadata": {
        "id": "u-B8KLO1HQds"
      },
      "source": [
        "seed = 50  # so that the result is reproducible\r\n",
        "from sklearn.model_selection import train_test_split\r\n",
        "X_train, X_test, y_train, y_test = train_test_split(X,y,test_size=0.333, random_state = seed)"
      ],
      "execution_count": null,
      "outputs": []
    },
    {
      "cell_type": "code",
      "metadata": {
        "id": "1TkoySa9Hjdu"
      },
      "source": [
        "X_train = X_train.fillna('na')\r\n",
        "X_test = X_test.fillna('na')"
      ],
      "execution_count": null,
      "outputs": []
    },
    {
      "cell_type": "code",
      "metadata": {
        "id": "gsNyk9CXTeNG"
      },
      "source": [
        "X_train.dtypes"
      ],
      "execution_count": null,
      "outputs": []
    },
    {
      "cell_type": "code",
      "metadata": {
        "id": "DY8ID_etTg_z"
      },
      "source": [
        "features_to_encode = list(X_train.select_dtypes(include = ['object']).columns) \r\n",
        "# Or alternatively, \r\n",
        "features_to_encode = X_train.columns[X_train.dtypes==object].tolist()"
      ],
      "execution_count": null,
      "outputs": []
    },
    {
      "cell_type": "code",
      "metadata": {
        "id": "jSg_JayMTk3Y"
      },
      "source": [
        "from sklearn.preprocessing import OneHotEncoder\r\n",
        "from sklearn.compose import make_column_transformer\r\n",
        "col_trans = make_column_transformer(\r\n",
        "                        (OneHotEncoder(),features_to_encode),\r\n",
        "                        remainder = \"passthrough\"\r\n",
        "                        )"
      ],
      "execution_count": null,
      "outputs": []
    },
    {
      "cell_type": "code",
      "metadata": {
        "id": "fpZIyRiXTpR6"
      },
      "source": [
        "from sklearn.ensemble import RandomForestClassifier\r\n",
        "rf_classifier = RandomForestClassifier(\r\n",
        "                      min_samples_leaf=50,\r\n",
        "                      n_estimators=150,\r\n",
        "                      bootstrap=True,\r\n",
        "                      oob_score=True,\r\n",
        "                      n_jobs=-1,\r\n",
        "                      random_state=seed,\r\n",
        "                      max_features='auto')"
      ],
      "execution_count": null,
      "outputs": []
    },
    {
      "cell_type": "code",
      "metadata": {
        "id": "nN1TVFdLTuqs"
      },
      "source": [
        "from sklearn.pipeline import make_pipeline\r\n",
        "pipe = make_pipeline(col_trans, rf_classifier)\r\n",
        "np.array(X_train, dtype=np.float32)\r\n",
        "pipe.fit(X_train, y_train)"
      ],
      "execution_count": null,
      "outputs": []
    },
    {
      "cell_type": "code",
      "metadata": {
        "id": "B23_GgdqTxot"
      },
      "source": [
        "y_pred = pipe.predict(X_test)"
      ],
      "execution_count": null,
      "outputs": []
    },
    {
      "cell_type": "code",
      "metadata": {
        "id": "VTv_Pt5LaD6y"
      },
      "source": [
        "from sklearn.metrics import accuracy_score, confusion_matrix, precision_score, recall_score, roc_auc_score, roc_curve, f1_score"
      ],
      "execution_count": null,
      "outputs": []
    },
    {
      "cell_type": "code",
      "metadata": {
        "id": "_lQNbyi0aINC"
      },
      "source": [
        "accuracy_score(y_test, y_pred)\r\n",
        "print(f\"The accuracy of the model is {round(accuracy_score(y_test,y_pred),3)*100} %\")"
      ],
      "execution_count": null,
      "outputs": []
    },
    {
      "cell_type": "code",
      "metadata": {
        "id": "Tg-Ok1ZuaS2D"
      },
      "source": [
        "train_probs = pipe.predict_proba(X_train)[:,1] \r\n",
        "probs = pipe.predict_proba(X_test)[:, 1]\r\n",
        "train_predictions = pipe.predict(X_train)"
      ],
      "execution_count": null,
      "outputs": []
    },
    {
      "cell_type": "code",
      "metadata": {
        "id": "Oxa3Lqmac2-y"
      },
      "source": [
        "print(f'Train ROC AUC Score: {roc_auc_score(y_train, train_probs)}')\r\n",
        "print(f'Test ROC AUC  Score: {roc_auc_score(y_test, probs)}')"
      ],
      "execution_count": null,
      "outputs": []
    },
    {
      "cell_type": "code",
      "metadata": {
        "id": "nlgtflmgc5hM"
      },
      "source": [
        "def evaluate_model(y_pred, probs,train_predictions, train_probs):\r\n",
        "    baseline = {}\r\n",
        "    baseline['recall']=recall_score(y_test,\r\n",
        "                    [1 for _ in range(len(y_test))])\r\n",
        "    baseline['precision'] = precision_score(y_test,\r\n",
        "                    [1 for _ in range(len(y_test))])\r\n",
        "    baseline['roc'] = 0.5\r\n",
        "    results = {}\r\n",
        "    results['recall'] = recall_score(y_test, y_pred)\r\n",
        "    results['precision'] = precision_score(y_test, y_pred)\r\n",
        "    results['roc'] = roc_auc_score(y_test, probs)\r\n",
        "    train_results = {}\r\n",
        "    train_results['recall'] = recall_score(y_train,       train_predictions)\r\n",
        "    train_results['precision'] = precision_score(y_train, train_predictions)\r\n",
        "    train_results['roc'] = roc_auc_score(y_train, train_probs)\r\n",
        "    for metric in ['recall', 'precision', 'roc']:  \r\n",
        "          print(f'{metric.capitalize()} \r\n",
        "                 Baseline: {round(baseline[metric], 2)} \r\n",
        "                 Test: {round(results[metric], 2)} \r\n",
        "                 Train: {round(train_results[metric], 2)}')\r\n",
        "     # Calculate false positive rates and true positive rates\r\n",
        "    base_fpr, base_tpr, _ = roc_curve(y_test, [1 for _ in range(len(y_test))])\r\n",
        "    model_fpr, model_tpr, _ = roc_curve(y_test, probs)\r\n",
        "    plt.figure(figsize = (8, 6))\r\n",
        "    plt.rcParams['font.size'] = 16\r\n",
        "    # Plot both curves\r\n",
        "    plt.plot(base_fpr, base_tpr, 'b', label = 'baseline')\r\n",
        "    plt.plot(model_fpr, model_tpr, 'r', label = 'model')\r\n",
        "    plt.legend();\r\n",
        "    plt.xlabel('False Positive Rate');\r\n",
        "    plt.ylabel('True Positive Rate'); plt.title('ROC Curves');\r\n",
        "    plt.show();\r\n",
        "evaluate_model(y_pred,probs,train_predictions,train_probs)"
      ],
      "execution_count": null,
      "outputs": []
    },
    {
      "cell_type": "code",
      "metadata": {
        "id": "R6fqh-8Sc9wm"
      },
      "source": [
        ""
      ],
      "execution_count": null,
      "outputs": []
    },
    {
      "cell_type": "code",
      "metadata": {
        "id": "7_rS0NXZdBga"
      },
      "source": [
        "print(rf_classifier.feature_importances_)\r\n",
        "print(f\" There are {len(rf_classifier.feature_importances_)} features in total\")"
      ],
      "execution_count": null,
      "outputs": []
    },
    {
      "cell_type": "code",
      "metadata": {
        "id": "yLvaSMvKdEGe"
      },
      "source": [
        ""
      ],
      "execution_count": null,
      "outputs": []
    }
  ]
}